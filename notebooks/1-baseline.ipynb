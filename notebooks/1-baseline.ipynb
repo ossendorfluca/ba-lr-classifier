{
 "cells": [
  {
   "cell_type": "code",
   "execution_count": null,
   "metadata": {},
   "outputs": [],
   "source": [
    "import pandas as pd\n",
    "import numpy as np\n",
    "from sklearn.model_selection import train_test_split, cross_val_score\n",
    "from sklearn.linear_model import LogisticRegression\n",
    "from sklearn.metrics import f1_score, precision_score, recall_score, confusion_matrix, accuracy_score\n",
    "\n",
    "df = pd.read_csv(\"../data/processed/extended_dataset/data_key.csv\")\n",
    "\n",
    "X = df.drop(['literature_review'], axis=1)\n",
    "y = df['literature_review']\n",
    "\n",
    "X_train, X_test, y_train, y_test = train_test_split(X, y , test_size=0.25, random_state=42)\n",
    "\n",
    "lr_baseline = LogisticRegression()\n",
    "\n",
    "lr_baseline.fit(X_train, y_train)\n",
    "y_pred = lr_baseline.predict(X_test)\n",
    "print(f\"f1: {f1_score(y_test, y_pred)}\")\n",
    "print(f\"precision: {precision_score(y_test, y_pred)}\")\n",
    "print(f\"recall: {recall_score(y_test, y_pred)}\")\n",
    "print(f\"accuracy: {accuracy_score(y_test, y_pred)}\")\n",
    "confusion_matrix(y_test, y_pred)\n",
    "\n",
    "np.mean(cross_val_score(lr_baseline, X_train, y_train, scoring=\"f1\"))\n"
   ]
  }
 ],
 "metadata": {
  "kernelspec": {
   "display_name": "Python 3",
   "language": "python",
   "name": "python3"
  },
  "language_info": {
   "codemirror_mode": {
    "name": "ipython",
    "version": 3
   },
   "file_extension": ".py",
   "mimetype": "text/x-python",
   "name": "python",
   "nbconvert_exporter": "python",
   "pygments_lexer": "ipython3",
   "version": "3.11.6"
  }
 },
 "nbformat": 4,
 "nbformat_minor": 2
}
