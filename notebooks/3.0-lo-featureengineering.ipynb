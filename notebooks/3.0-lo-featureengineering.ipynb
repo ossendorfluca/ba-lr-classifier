{
 "cells": [
  {
   "cell_type": "markdown",
   "metadata": {},
   "source": [
    "# Feature Engineering"
   ]
  },
  {
   "cell_type": "markdown",
   "metadata": {},
   "source": [
    "### abs_literaturereview\n",
    "1 if abstract contains \"literature review\"\n",
    "\n",
    "### abs_review\n",
    "1 if abstract contains \"review\"\n",
    "\n",
    "### abstract_survey\n",
    "1 if abstract contains \"survey\"\n",
    "\n",
    "### title_literaturereview\n",
    "1 if title contains \"literature review\"\n",
    "\n",
    "### title_review\n",
    "1 if title contains \"review\"\n",
    "\n",
    "### title_survey\n",
    "1 if title contains \"survey\""
   ]
  },
  {
   "cell_type": "code",
   "execution_count": 20,
   "metadata": {},
   "outputs": [],
   "source": [
    "import pandas as pd\n",
    "\n",
    "df = pd.read_csv(\"../data/interim/data.csv\")\n",
    "\n",
    "df.drop(['language', 'url', 'pages', 'number', 'volume', 'year', 'journal', 'author', 'ENTRYTYPE', 'doi'], axis=1, inplace=True)\n",
    "\n",
    "def addKeywordFeature(df, keyword, column, col_name):\n",
    "    toAdd = []\n",
    "    if column == \"abstract\":\n",
    "        for index, row in df.loc[:, [column]].iterrows():\n",
    "            if pd.isnull(df[column][index]):\n",
    "                toAdd.append(0)\n",
    "            elif keyword in row.abstract.lower():\n",
    "                toAdd.append(1)\n",
    "            else:\n",
    "                toAdd.append(0)\n",
    "        df.insert(loc=len(df.columns), column=col_name, value=toAdd)\n",
    "    elif column == \"title\":\n",
    "        for index, row in df.loc[:, [column]].iterrows():\n",
    "            if pd.isnull(df[column][index]):\n",
    "                toAdd.append(0)\n",
    "            elif keyword in row.title.lower():\n",
    "                toAdd.append(1)\n",
    "            else:\n",
    "                toAdd.append(0)\n",
    "        df.insert(loc=len(df.columns), column=col_name, value=toAdd)\n",
    "\n",
    "addKeywordFeature(df, \"literature review\", \"title\", \"title_literaturereview\")\n",
    "addKeywordFeature(df, \"literature review\", \"abstract\", \"abstract_literaturereview\")\n",
    "addKeywordFeature(df, \"review\", \"title\", \"title_review\")\n",
    "addKeywordFeature(df, \"review\", \"abstract\", \"abstract_review\")\n",
    "addKeywordFeature(df, \"survey\", \"title\", \"title_survey\")\n",
    "addKeywordFeature(df, \"survey\", \"abstract\", \"abstract_survey\")\n",
    "addKeywordFeature(df, \"experiment\", \"title\", \"title_experiment\")\n",
    "addKeywordFeature(df, \"experiment\", \"abstract\", \"abstract_experiment\")\n",
    "addKeywordFeature(df, \"interview\", \"title\", \"title_interview\")\n",
    "addKeywordFeature(df, \"interview\", \"abstract\", \"abstract_interview\")\n"
   ]
  },
  {
   "cell_type": "markdown",
   "metadata": {},
   "source": []
  },
  {
   "cell_type": "code",
   "execution_count": null,
   "metadata": {},
   "outputs": [],
   "source": []
  }
 ],
 "metadata": {
  "kernelspec": {
   "display_name": "Python 3",
   "language": "python",
   "name": "python3"
  },
  "language_info": {
   "codemirror_mode": {
    "name": "ipython",
    "version": 3
   },
   "file_extension": ".py",
   "mimetype": "text/x-python",
   "name": "python",
   "nbconvert_exporter": "python",
   "pygments_lexer": "ipython3",
   "version": "3.8.10"
  }
 },
 "nbformat": 4,
 "nbformat_minor": 2
}
