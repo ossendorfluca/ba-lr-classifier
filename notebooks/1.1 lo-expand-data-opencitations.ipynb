{
 "cells": [
  {
   "cell_type": "code",
   "execution_count": 5,
   "metadata": {},
   "outputs": [],
   "source": [
    "import json\n",
    "import typing\n",
    "import requests\n",
    "import pandas as pd\n",
    "\n",
    "df = pd.read_csv(\"../data/interim/data.csv\")\n",
    "if 'references_opencitations' in df.columns:\n",
    "    df.drop(['references_opencitations'], axis=1, inplace=True)\n",
    "    \n",
    "api_url = \"https://opencitations.net/index/coci/api/v1/references/\"\n",
    "\n",
    "new_column = []\n",
    "\n",
    "for index, row in df.loc[:, [\"doi\"]].iterrows():\n",
    "    \n",
    "    references = []\n",
    "\n",
    "    url = f\"{api_url}{row.doi}\"\n",
    "\n",
    "    # headers = {\"authorization\": \"YOUR-OPENCITATIONS-ACCESS-TOKEN\"}\n",
    "    headers: typing.Dict[str, str] = {}\n",
    "    ret = requests.get(url, headers=headers, timeout=300)\n",
    "    try:\n",
    "        items = json.loads(ret.text)\n",
    "        for item in items:\n",
    "            references.append(item[\"cited\"])\n",
    "    except json.decoder.JSONDecodeError:\n",
    "        print(f\"Error retrieving citations from OpenCitations for DOI: {row.doi}\")\n",
    "    if len(references) == 0:\n",
    "        new_column.append(None)\n",
    "    else:\n",
    "        new_column.append(references)\n",
    "\n",
    "df.insert(loc=len(df.columns), column=\"references_opencitations\", value=new_column)\n",
    "df.to_csv(\"../data/interim/data.csv\", index=False)\n",
    "\n",
    "    \n",
    "\n"
   ]
  }
 ],
 "metadata": {
  "kernelspec": {
   "display_name": "Python 3",
   "language": "python",
   "name": "python3"
  },
  "language_info": {
   "codemirror_mode": {
    "name": "ipython",
    "version": 3
   },
   "file_extension": ".py",
   "mimetype": "text/x-python",
   "name": "python",
   "nbconvert_exporter": "python",
   "pygments_lexer": "ipython3",
   "version": "3.11.6"
  }
 },
 "nbformat": 4,
 "nbformat_minor": 2
}
