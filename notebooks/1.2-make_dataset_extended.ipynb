{
 "cells": [
  {
   "cell_type": "markdown",
   "metadata": {},
   "source": [
    "## Extended Dataset\n",
    "\n",
    "The data is extended."
   ]
  },
  {
   "cell_type": "code",
   "execution_count": null,
   "metadata": {},
   "outputs": [],
   "source": [
    "import bibtexparser\n",
    "import pandas as pd\n",
    "import json\n",
    "import typing\n",
    "import requests\n",
    "\n",
    "# import dataset and drop not relevant columns\n",
    "\n",
    "with open('../../data/external/records_extended.bib') as bibtex_file:\n",
    "    bib_database = bibtexparser.load(bibtex_file)\n",
    "\n",
    "records_df = pd.DataFrame(bib_database.entries)\n",
    "records_df.dropna(subset=\"literature_review\", inplace=True)\n",
    "\n",
    "top_8 = [\"European Journal of Information Systems\", \"Information Systems Journal\", \"Information Systems Research\", \"Journal of AIS\", \"Journal of Information Technology\", \"Journal of MIS\", \"Journal of Strategic Information Systems\", \"MIS Quarterly\"]\n",
    "\n",
    "df = records_df.loc[records_df['journal'].isin(top_8)]\n",
    "\n",
    "df = df[df.prescreen_exclusion != \"complementary material\"]\n",
    "df = df[df.title != \"Editorial\"]\n",
    "df.drop(['colrev.dblp.dblp_key', 'colrev_pdf_id', 'colrev_data_provenance', 'colrev_masterdata_provenance', 'colrev_status', 'colrev_origin', 'colrev.semantic_scholar.id', 'pdf_processed', 'prescreen_exclusion', 'note', 'fulltext', 'link', 'file', 'cited_by', 'screening_criteria', 'ID'], axis=1, inplace=True)\n",
    "df.reset_index(inplace=True, drop=True)\n",
    "df[\"literature_review\"].replace(to_replace=\"yes\", value=1, inplace=True)\n",
    "df[\"literature_review\"].replace(to_replace=\"no\", value=0, inplace=True)\n",
    "df.astype({\"literature_review\": int})\n",
    "\n",
    "# add references column\n",
    "\n",
    "api_url = \"https://opencitations.net/index/coci/api/v1/references/\"\n",
    "\n",
    "new_column = []\n",
    "\n",
    "for index, row in df.loc[:, [\"doi\"]].iterrows():\n",
    "    \n",
    "    references = []\n",
    "    \n",
    "    if not pd.isna(row.doi):\n",
    "        url = f\"{api_url}{row.doi}\"\n",
    "\n",
    "        # headers = {\"authorization\": \"YOUR-OPENCITATIONS-ACCESS-TOKEN\"}\n",
    "        headers: typing.Dict[str, str] = {}\n",
    "        ret = requests.get(url, headers=headers, timeout=300)\n",
    "        try:\n",
    "            items = json.loads(ret.text)\n",
    "            for item in items:\n",
    "                references.append(item[\"cited\"])\n",
    "        except json.decoder.JSONDecodeError:\n",
    "            print(f\"Error retrieving citations from OpenCitations for DOI: {row.doi}\")\n",
    "            \n",
    "    if len(references) == 0:\n",
    "        new_column.append(None)\n",
    "    else:\n",
    "        print(references)\n",
    "        new_column.append(references)\n",
    "\n",
    "df.insert(loc=len(df.columns), column=\"references\", value=new_column)\n",
    "\n",
    "df.drop(['language', 'url', 'pages', 'number', 'volume', 'year', 'journal', 'author', 'ENTRYTYPE', 'doi', 'crossmark-restriction', 'man_prep_hints', 'keywords'], axis = 1, inplace = True)\n",
    "\n",
    "df.to_csv(\"../../data/interim/data_extended.csv\", index=False)"
   ]
  }
 ],
 "metadata": {
  "language_info": {
   "name": "python"
  }
 },
 "nbformat": 4,
 "nbformat_minor": 2
}
