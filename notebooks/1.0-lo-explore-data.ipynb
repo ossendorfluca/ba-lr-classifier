{
 "cells": [
  {
   "cell_type": "code",
   "execution_count": 2,
   "metadata": {},
   "outputs": [
    {
     "data": {
      "text/plain": [
       "literature_review           0\n",
       "crossmark-restriction     152\n",
       "keywords                  152\n",
       "man_prep_hints            152\n",
       "title_literaturereview      0\n",
       "                         ... \n",
       "47383_abstracts             0\n",
       "47384_abstracts             0\n",
       "47385_abstracts             0\n",
       "47386_abstracts             0\n",
       "47387_abstracts             0\n",
       "Length: 65046, dtype: int64"
      ]
     },
     "execution_count": 2,
     "metadata": {},
     "output_type": "execute_result"
    }
   ],
   "source": [
    "import pandas as pd\n",
    "import bibtexparser\n",
    "\n",
    "'''df = pd.read_csv(\"../data/interim/data.csv\")\n",
    "\n",
    "df.shape\n",
    "\n",
    "\n",
    "\n",
    "df['abstract'].isna().sum()\n",
    "\n",
    "df['title'].isna().sum()\n",
    "\n",
    "df.value_counts(\"literature_review\")\n",
    "\n",
    "df.value_counts(\"language\")\n",
    "\n",
    "df\n",
    "\n",
    "df['doi'].isna().sum()\n",
    "\n",
    "df.shape\n",
    "\n",
    "counter = 0\n",
    "for reference in df['references']:\n",
    "    if len(reference) == 2:\n",
    "        counter += 1\n",
    "\n",
    "counter'''\n",
    "\n",
    "\n",
    "'''top_8 = [\"European Journal of Information Systems\", \"Information System Journal\", \"Information System Research\", \"Journal of AIS\", \"Journal of Information Technology\", \"Journal of MIS\", \"Journal of Strategic Information Systems\", \"MIS Quarterly\"]\n",
    "\n",
    "df = records_df.loc[records_df['journal'].isin(top_8)]\n",
    "\n",
    "\n",
    "df.drop(['colrev.dblp.dblp_key', 'colrev_pdf_id', 'colrev_data_provenance', 'colrev_masterdata_provenance', 'colrev_status', 'colrev_origin', 'colrev.semantic_scholar.id', 'pdf_processed', 'prescreen_exclusion', 'note', 'fulltext', 'link', 'file', 'cited_by', 'screening_criteria', 'ID'], axis=1, inplace=True)\n",
    "df.reset_index(inplace=True, drop=True)\n",
    "df[\"literature_review\"].replace(to_replace=\"yes\", value=1, inplace=True)\n",
    "df[\"literature_review\"].replace(to_replace=\"no\", value=0, inplace=True)\n",
    "df.astype({\"literature_review\": int})\n",
    "\n",
    "with open('../data/external/records_extended.bib') as bibtex_file:\n",
    "    bib_database = bibtexparser.load(bibtex_file)\n",
    "\n",
    "records_df = pd.DataFrame(bib_database.entries)\n",
    "records_df.dropna(subset=\"literature_review\", inplace=True)\n",
    "\n",
    "df = records_df\n",
    "\n",
    "df = df[df.prescreen_exclusion != \"complementary material\"]\n",
    "df = df[df.title != \"editorial\"]\n",
    "\n",
    "\n",
    "\n",
    "df[df['doi'].isna()]\n",
    "\n",
    "df.value_counts(\"literature_review\")'''\n",
    "\n",
    "\n",
    "\n",
    "df = pd.read_csv(\"../data/processed/data.csv\")\n",
    "\n",
    "df.isna().sum()\n",
    "\n",
    "\n",
    "\n",
    "\n",
    "\n",
    "\n"
   ]
  },
  {
   "cell_type": "code",
   "execution_count": null,
   "metadata": {},
   "outputs": [],
   "source": []
  }
 ],
 "metadata": {
  "kernelspec": {
   "display_name": "Python 3",
   "language": "python",
   "name": "python3"
  },
  "language_info": {
   "codemirror_mode": {
    "name": "ipython",
    "version": 3
   },
   "file_extension": ".py",
   "mimetype": "text/x-python",
   "name": "python",
   "nbconvert_exporter": "python",
   "pygments_lexer": "ipython3",
   "version": "3.11.6"
  }
 },
 "nbformat": 4,
 "nbformat_minor": 2
}
